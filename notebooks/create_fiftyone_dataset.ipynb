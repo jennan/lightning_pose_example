{
 "cells": [
  {
   "cell_type": "code",
   "execution_count": null,
   "id": "43c1b826-8729-4c04-870a-873d5ea99018",
   "metadata": {},
   "outputs": [],
   "source": [
    "!rm ~/.fiftyone -rf"
   ]
  },
  {
   "cell_type": "code",
   "execution_count": null,
   "id": "c87eed02-e5fc-4f31-a4e6-973400a1c145",
   "metadata": {},
   "outputs": [],
   "source": [
    "import os\n",
    "from pathlib import Path\n",
    "\n",
    "import fiftyone as fo\n",
    "import hydra\n",
    "\n",
    "from lightning_pose.utils import pretty_print_str\n",
    "from lightning_pose.utils.fiftyone import (\n",
    "    FiftyOneFactory,\n",
    "    FiftyOneImagePlotter,\n",
    "    FiftyOneKeypointVideoPlotter,\n",
    "    check_dataset,\n",
    ")"
   ]
  },
  {
   "cell_type": "code",
   "execution_count": null,
   "id": "baa7a7ed-e67d-4f53-9f5c-6a1e27cd1f92",
   "metadata": {},
   "outputs": [],
   "source": [
    "project_dir = Path.cwd().parent"
   ]
  },
  {
   "cell_type": "code",
   "execution_count": null,
   "id": "36ec637b-3363-4f02-ba29-0ba675832cf5",
   "metadata": {},
   "outputs": [],
   "source": [
    "data_dir = project_dir / \"data/mirror-mouse-example\""
   ]
  },
  {
   "cell_type": "code",
   "execution_count": null,
   "id": "21a98c44-07bd-420e-b481-f4c4a70d0aba",
   "metadata": {},
   "outputs": [],
   "source": [
    "# folders in 'outputs' containing results to analyse\n",
    "outputs = [\n",
    "    '2023-11-20/03-47-21',\n",
    "    '2023-11-20/02-21-30',\n",
    "    '2023-11-20/02-53-36',\n",
    "    '2023-11-17/04-40-21'\n",
    "]\n",
    "\n",
    "# append outputs directory to only manipulate absolute paths\n",
    "output_dir = project_dir / \"outputs\"\n",
    "outputs = [str(output_dir / path) for path in outputs]"
   ]
  },
  {
   "cell_type": "code",
   "execution_count": null,
   "id": "70c46248-1978-44fb-bffa-54e645a1d887",
   "metadata": {},
   "outputs": [],
   "source": [
    "with hydra.initialize(version_base=None, config_path=\"../config\"):\n",
    "    cfg = hydra.compose(\n",
    "        config_name=\"config_mirror-mouse-example\",\n",
    "        overrides=[\n",
    "            f\"data.data_dir={data_dir}\",\n",
    "            f\"eval.hydra_paths=[{','.join(outputs)}]\",\n",
    "        ]\n",
    "    )"
   ]
  },
  {
   "cell_type": "code",
   "execution_count": null,
   "id": "f2407a9d-94bf-4229-9720-25ebf8f8e98f",
   "metadata": {},
   "outputs": [],
   "source": [
    "pretty_print_str(\n",
    "    f\"Launching a job that creates {cfg.eval.fiftyone.dataset_to_create} \"\n",
    "    \"FiftyOne.Dataset\"\n",
    ")\n",
    "\n",
    "FiftyOneClass = FiftyOneFactory(dataset_to_create=cfg.eval.fiftyone.dataset_to_create)()\n",
    "\n",
    "# initializes everything\n",
    "fo_plotting_instance = FiftyOneClass(cfg=cfg)\n",
    "\n",
    "# internally loops over models\n",
    "dataset = fo_plotting_instance.create_dataset()\n",
    "\n",
    "# create metadata and print if there are problems\n",
    "check_dataset(dataset)\n",
    "\n",
    "# print the name of the dataset\n",
    "fo_plotting_instance.dataset_info_print()"
   ]
  },
  {
   "cell_type": "code",
   "execution_count": null,
   "id": "0557b4f2-d3c2-4fa4-b1eb-c9d941a7f497",
   "metadata": {},
   "outputs": [],
   "source": [
    "username = os.environ['USER']\n",
    "fo.app_config.proxy_url = (\n",
    "    f\"https://jupyter.nesi.org.nz/user/{username}/proxy/{cfg.eval.fiftyone.port}/\"\n",
    ")\n",
    "fo.launch_app(dataset, port=cfg.eval.fiftyone.port)"
   ]
  },
  {
   "cell_type": "code",
   "execution_count": null,
   "id": "53ea22b3-feed-42dc-ae51-d6e37704dc38",
   "metadata": {},
   "outputs": [],
   "source": []
  }
 ],
 "metadata": {
  "kernelspec": {
   "display_name": "lighting_pose",
   "language": "python",
   "name": "lighting_pose"
  },
  "language_info": {
   "codemirror_mode": {
    "name": "ipython",
    "version": 3
   },
   "file_extension": ".py",
   "mimetype": "text/x-python",
   "name": "python",
   "nbconvert_exporter": "python",
   "pygments_lexer": "ipython3",
   "version": "3.11.3"
  }
 },
 "nbformat": 4,
 "nbformat_minor": 5
}
